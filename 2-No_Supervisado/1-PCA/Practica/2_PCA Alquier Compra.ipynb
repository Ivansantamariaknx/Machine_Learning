{
 "cells": [
  {
   "attachments": {},
   "cell_type": "markdown",
   "metadata": {},
   "source": [
    "# Ejercicio PCA (Principal Component Analysis)\n",
    "En este ejercicio vas a trabajar con un dataset de información de ciudadanos como el estado civil, número de hijos, qué gastos e ingresos tiene, etc...\n",
    "\n",
    "Se cuenta con un target, que es si el ciudadano va a alquilar o a comprar una vivienda. Para ello,  con PCA"
   ]
  },
  {
   "attachments": {},
   "cell_type": "markdown",
   "metadata": {},
   "source": [
    "### Importamos librerias\n",
    "Principales librerías que usarás durante el notebook."
   ]
  },
  {
   "cell_type": "code",
   "execution_count": 11,
   "metadata": {},
   "outputs": [],
   "source": [
    "import pandas as pd\n",
    "import numpy as np\n",
    "import matplotlib.pyplot as plt\n",
    "import seaborn as sns\n",
    "\n",
    "from sklearn.decomposition import PCA\n",
    "from sklearn.preprocessing import StandardScaler\n",
    "from sklearn.pipeline import Pipeline\n",
    "from sklearn.model_selection import GridSearchCV\n",
    "\n",
    "from sklearn.model_selection import train_test_split\n",
    "from sklearn.metrics import confusion_matrix"
   ]
  },
  {
   "attachments": {},
   "cell_type": "markdown",
   "metadata": {},
   "source": [
    "### Cargamos datos de entrada\n",
    "1. Carga el csv *comprar_alquilar.csv*\n",
    "2. Obtén la información básica: columnas, dimensiones, descripción de las variables, missings..."
   ]
  },
  {
   "cell_type": "code",
   "execution_count": 12,
   "metadata": {},
   "outputs": [
    {
     "data": {
      "text/html": [
       "<div>\n",
       "<style scoped>\n",
       "    .dataframe tbody tr th:only-of-type {\n",
       "        vertical-align: middle;\n",
       "    }\n",
       "\n",
       "    .dataframe tbody tr th {\n",
       "        vertical-align: top;\n",
       "    }\n",
       "\n",
       "    .dataframe thead th {\n",
       "        text-align: right;\n",
       "    }\n",
       "</style>\n",
       "<table border=\"1\" class=\"dataframe\">\n",
       "  <thead>\n",
       "    <tr style=\"text-align: right;\">\n",
       "      <th></th>\n",
       "      <th>ingresos</th>\n",
       "      <th>gastos_comunes</th>\n",
       "      <th>pago_coche</th>\n",
       "      <th>gastos_otros</th>\n",
       "      <th>ahorros</th>\n",
       "      <th>vivienda</th>\n",
       "      <th>estado_civil</th>\n",
       "      <th>hijos</th>\n",
       "      <th>trabajo</th>\n",
       "      <th>comprar</th>\n",
       "    </tr>\n",
       "  </thead>\n",
       "  <tbody>\n",
       "    <tr>\n",
       "      <th>0</th>\n",
       "      <td>6000</td>\n",
       "      <td>1000</td>\n",
       "      <td>0</td>\n",
       "      <td>600</td>\n",
       "      <td>50000</td>\n",
       "      <td>400000</td>\n",
       "      <td>0</td>\n",
       "      <td>2</td>\n",
       "      <td>2</td>\n",
       "      <td>1</td>\n",
       "    </tr>\n",
       "    <tr>\n",
       "      <th>1</th>\n",
       "      <td>6745</td>\n",
       "      <td>944</td>\n",
       "      <td>123</td>\n",
       "      <td>429</td>\n",
       "      <td>43240</td>\n",
       "      <td>636897</td>\n",
       "      <td>1</td>\n",
       "      <td>3</td>\n",
       "      <td>6</td>\n",
       "      <td>0</td>\n",
       "    </tr>\n",
       "    <tr>\n",
       "      <th>2</th>\n",
       "      <td>6455</td>\n",
       "      <td>1033</td>\n",
       "      <td>98</td>\n",
       "      <td>795</td>\n",
       "      <td>57463</td>\n",
       "      <td>321779</td>\n",
       "      <td>2</td>\n",
       "      <td>1</td>\n",
       "      <td>8</td>\n",
       "      <td>1</td>\n",
       "    </tr>\n",
       "    <tr>\n",
       "      <th>3</th>\n",
       "      <td>7098</td>\n",
       "      <td>1278</td>\n",
       "      <td>15</td>\n",
       "      <td>254</td>\n",
       "      <td>54506</td>\n",
       "      <td>660933</td>\n",
       "      <td>0</td>\n",
       "      <td>0</td>\n",
       "      <td>3</td>\n",
       "      <td>0</td>\n",
       "    </tr>\n",
       "    <tr>\n",
       "      <th>4</th>\n",
       "      <td>6167</td>\n",
       "      <td>863</td>\n",
       "      <td>223</td>\n",
       "      <td>520</td>\n",
       "      <td>41512</td>\n",
       "      <td>348932</td>\n",
       "      <td>0</td>\n",
       "      <td>0</td>\n",
       "      <td>3</td>\n",
       "      <td>1</td>\n",
       "    </tr>\n",
       "    <tr>\n",
       "      <th>...</th>\n",
       "      <td>...</td>\n",
       "      <td>...</td>\n",
       "      <td>...</td>\n",
       "      <td>...</td>\n",
       "      <td>...</td>\n",
       "      <td>...</td>\n",
       "      <td>...</td>\n",
       "      <td>...</td>\n",
       "      <td>...</td>\n",
       "      <td>...</td>\n",
       "    </tr>\n",
       "    <tr>\n",
       "      <th>197</th>\n",
       "      <td>3831</td>\n",
       "      <td>690</td>\n",
       "      <td>352</td>\n",
       "      <td>488</td>\n",
       "      <td>10723</td>\n",
       "      <td>363120</td>\n",
       "      <td>0</td>\n",
       "      <td>0</td>\n",
       "      <td>2</td>\n",
       "      <td>0</td>\n",
       "    </tr>\n",
       "    <tr>\n",
       "      <th>198</th>\n",
       "      <td>3961</td>\n",
       "      <td>1030</td>\n",
       "      <td>270</td>\n",
       "      <td>475</td>\n",
       "      <td>21880</td>\n",
       "      <td>280421</td>\n",
       "      <td>2</td>\n",
       "      <td>3</td>\n",
       "      <td>8</td>\n",
       "      <td>0</td>\n",
       "    </tr>\n",
       "    <tr>\n",
       "      <th>199</th>\n",
       "      <td>3184</td>\n",
       "      <td>955</td>\n",
       "      <td>276</td>\n",
       "      <td>684</td>\n",
       "      <td>35565</td>\n",
       "      <td>388025</td>\n",
       "      <td>1</td>\n",
       "      <td>3</td>\n",
       "      <td>8</td>\n",
       "      <td>0</td>\n",
       "    </tr>\n",
       "    <tr>\n",
       "      <th>200</th>\n",
       "      <td>3334</td>\n",
       "      <td>867</td>\n",
       "      <td>369</td>\n",
       "      <td>652</td>\n",
       "      <td>19985</td>\n",
       "      <td>376892</td>\n",
       "      <td>1</td>\n",
       "      <td>2</td>\n",
       "      <td>5</td>\n",
       "      <td>0</td>\n",
       "    </tr>\n",
       "    <tr>\n",
       "      <th>201</th>\n",
       "      <td>3988</td>\n",
       "      <td>1157</td>\n",
       "      <td>105</td>\n",
       "      <td>382</td>\n",
       "      <td>11980</td>\n",
       "      <td>257580</td>\n",
       "      <td>0</td>\n",
       "      <td>0</td>\n",
       "      <td>4</td>\n",
       "      <td>0</td>\n",
       "    </tr>\n",
       "  </tbody>\n",
       "</table>\n",
       "<p>202 rows × 10 columns</p>\n",
       "</div>"
      ],
      "text/plain": [
       "     ingresos  gastos_comunes  pago_coche  gastos_otros  ahorros  vivienda  \\\n",
       "0        6000            1000           0           600    50000    400000   \n",
       "1        6745             944         123           429    43240    636897   \n",
       "2        6455            1033          98           795    57463    321779   \n",
       "3        7098            1278          15           254    54506    660933   \n",
       "4        6167             863         223           520    41512    348932   \n",
       "..        ...             ...         ...           ...      ...       ...   \n",
       "197      3831             690         352           488    10723    363120   \n",
       "198      3961            1030         270           475    21880    280421   \n",
       "199      3184             955         276           684    35565    388025   \n",
       "200      3334             867         369           652    19985    376892   \n",
       "201      3988            1157         105           382    11980    257580   \n",
       "\n",
       "     estado_civil  hijos  trabajo  comprar  \n",
       "0               0      2        2        1  \n",
       "1               1      3        6        0  \n",
       "2               2      1        8        1  \n",
       "3               0      0        3        0  \n",
       "4               0      0        3        1  \n",
       "..            ...    ...      ...      ...  \n",
       "197             0      0        2        0  \n",
       "198             2      3        8        0  \n",
       "199             1      3        8        0  \n",
       "200             1      2        5        0  \n",
       "201             0      0        4        0  \n",
       "\n",
       "[202 rows x 10 columns]"
      ]
     },
     "execution_count": 12,
     "metadata": {},
     "output_type": "execute_result"
    }
   ],
   "source": [
    "df=pd.read_csv(r\"C:\\Users\\Abraham\\Desktop\\Solo\\Bootcamp\\Machine_Learning\\2-No_Supervisado\\1-PCA\\Practica\\data\\comprar_alquilar.csv\")\n",
    "df"
   ]
  },
  {
   "attachments": {},
   "cell_type": "markdown",
   "metadata": {},
   "source": [
    "### Visualicemos las dimensiones\n",
    "Realiza un análisis univariante. Realiza la gráfica que consideres para cada variable, diferenciando por colores el target (*comprar*)."
   ]
  },
  {
   "cell_type": "code",
   "execution_count": 13,
   "metadata": {},
   "outputs": [
    {
     "name": "stdout",
     "output_type": "stream",
     "text": [
      "<class 'pandas.core.frame.DataFrame'>\n",
      "RangeIndex: 202 entries, 0 to 201\n",
      "Data columns (total 10 columns):\n",
      " #   Column          Non-Null Count  Dtype\n",
      "---  ------          --------------  -----\n",
      " 0   ingresos        202 non-null    int64\n",
      " 1   gastos_comunes  202 non-null    int64\n",
      " 2   pago_coche      202 non-null    int64\n",
      " 3   gastos_otros    202 non-null    int64\n",
      " 4   ahorros         202 non-null    int64\n",
      " 5   vivienda        202 non-null    int64\n",
      " 6   estado_civil    202 non-null    int64\n",
      " 7   hijos           202 non-null    int64\n",
      " 8   trabajo         202 non-null    int64\n",
      " 9   comprar         202 non-null    int64\n",
      "dtypes: int64(10)\n",
      "memory usage: 15.9 KB\n"
     ]
    }
   ],
   "source": [
    "df.info()"
   ]
  },
  {
   "cell_type": "code",
   "execution_count": 14,
   "metadata": {},
   "outputs": [
    {
     "data": {
      "text/html": [
       "<div>\n",
       "<style scoped>\n",
       "    .dataframe tbody tr th:only-of-type {\n",
       "        vertical-align: middle;\n",
       "    }\n",
       "\n",
       "    .dataframe tbody tr th {\n",
       "        vertical-align: top;\n",
       "    }\n",
       "\n",
       "    .dataframe thead th {\n",
       "        text-align: right;\n",
       "    }\n",
       "</style>\n",
       "<table border=\"1\" class=\"dataframe\">\n",
       "  <thead>\n",
       "    <tr style=\"text-align: right;\">\n",
       "      <th></th>\n",
       "      <th>ingresos</th>\n",
       "      <th>gastos_comunes</th>\n",
       "      <th>pago_coche</th>\n",
       "      <th>gastos_otros</th>\n",
       "      <th>ahorros</th>\n",
       "      <th>vivienda</th>\n",
       "      <th>estado_civil</th>\n",
       "      <th>hijos</th>\n",
       "      <th>trabajo</th>\n",
       "      <th>comprar</th>\n",
       "    </tr>\n",
       "  </thead>\n",
       "  <tbody>\n",
       "    <tr>\n",
       "      <th>count</th>\n",
       "      <td>202.000000</td>\n",
       "      <td>202.000000</td>\n",
       "      <td>202.000000</td>\n",
       "      <td>202.000000</td>\n",
       "      <td>202.000000</td>\n",
       "      <td>202.000000</td>\n",
       "      <td>202.000000</td>\n",
       "      <td>202.000000</td>\n",
       "      <td>202.000000</td>\n",
       "      <td>202.000000</td>\n",
       "    </tr>\n",
       "    <tr>\n",
       "      <th>mean</th>\n",
       "      <td>4958.995050</td>\n",
       "      <td>971.584158</td>\n",
       "      <td>211.742574</td>\n",
       "      <td>515.425743</td>\n",
       "      <td>38749.668317</td>\n",
       "      <td>373349.638614</td>\n",
       "      <td>1.024752</td>\n",
       "      <td>1.232673</td>\n",
       "      <td>4.490099</td>\n",
       "      <td>0.331683</td>\n",
       "    </tr>\n",
       "    <tr>\n",
       "      <th>std</th>\n",
       "      <td>1682.862556</td>\n",
       "      <td>272.106351</td>\n",
       "      <td>124.940754</td>\n",
       "      <td>168.103075</td>\n",
       "      <td>17365.231870</td>\n",
       "      <td>136371.525622</td>\n",
       "      <td>0.837184</td>\n",
       "      <td>1.367833</td>\n",
       "      <td>2.535794</td>\n",
       "      <td>0.471988</td>\n",
       "    </tr>\n",
       "    <tr>\n",
       "      <th>min</th>\n",
       "      <td>2008.000000</td>\n",
       "      <td>384.000000</td>\n",
       "      <td>0.000000</td>\n",
       "      <td>201.000000</td>\n",
       "      <td>10319.000000</td>\n",
       "      <td>176553.000000</td>\n",
       "      <td>0.000000</td>\n",
       "      <td>0.000000</td>\n",
       "      <td>0.000000</td>\n",
       "      <td>0.000000</td>\n",
       "    </tr>\n",
       "    <tr>\n",
       "      <th>25%</th>\n",
       "      <td>3513.750000</td>\n",
       "      <td>766.750000</td>\n",
       "      <td>99.000000</td>\n",
       "      <td>383.250000</td>\n",
       "      <td>24964.250000</td>\n",
       "      <td>274810.000000</td>\n",
       "      <td>0.000000</td>\n",
       "      <td>0.000000</td>\n",
       "      <td>2.000000</td>\n",
       "      <td>0.000000</td>\n",
       "    </tr>\n",
       "    <tr>\n",
       "      <th>50%</th>\n",
       "      <td>4947.500000</td>\n",
       "      <td>968.000000</td>\n",
       "      <td>208.500000</td>\n",
       "      <td>522.500000</td>\n",
       "      <td>38523.000000</td>\n",
       "      <td>340783.500000</td>\n",
       "      <td>1.000000</td>\n",
       "      <td>1.000000</td>\n",
       "      <td>5.000000</td>\n",
       "      <td>0.000000</td>\n",
       "    </tr>\n",
       "    <tr>\n",
       "      <th>75%</th>\n",
       "      <td>6374.500000</td>\n",
       "      <td>1165.250000</td>\n",
       "      <td>318.750000</td>\n",
       "      <td>656.750000</td>\n",
       "      <td>52150.750000</td>\n",
       "      <td>444482.000000</td>\n",
       "      <td>2.000000</td>\n",
       "      <td>2.000000</td>\n",
       "      <td>7.000000</td>\n",
       "      <td>1.000000</td>\n",
       "    </tr>\n",
       "    <tr>\n",
       "      <th>max</th>\n",
       "      <td>7984.000000</td>\n",
       "      <td>1585.000000</td>\n",
       "      <td>448.000000</td>\n",
       "      <td>828.000000</td>\n",
       "      <td>69934.000000</td>\n",
       "      <td>669540.000000</td>\n",
       "      <td>2.000000</td>\n",
       "      <td>4.000000</td>\n",
       "      <td>8.000000</td>\n",
       "      <td>1.000000</td>\n",
       "    </tr>\n",
       "  </tbody>\n",
       "</table>\n",
       "</div>"
      ],
      "text/plain": [
       "          ingresos  gastos_comunes  pago_coche  gastos_otros       ahorros  \\\n",
       "count   202.000000      202.000000  202.000000    202.000000    202.000000   \n",
       "mean   4958.995050      971.584158  211.742574    515.425743  38749.668317   \n",
       "std    1682.862556      272.106351  124.940754    168.103075  17365.231870   \n",
       "min    2008.000000      384.000000    0.000000    201.000000  10319.000000   \n",
       "25%    3513.750000      766.750000   99.000000    383.250000  24964.250000   \n",
       "50%    4947.500000      968.000000  208.500000    522.500000  38523.000000   \n",
       "75%    6374.500000     1165.250000  318.750000    656.750000  52150.750000   \n",
       "max    7984.000000     1585.000000  448.000000    828.000000  69934.000000   \n",
       "\n",
       "            vivienda  estado_civil       hijos     trabajo     comprar  \n",
       "count     202.000000    202.000000  202.000000  202.000000  202.000000  \n",
       "mean   373349.638614      1.024752    1.232673    4.490099    0.331683  \n",
       "std    136371.525622      0.837184    1.367833    2.535794    0.471988  \n",
       "min    176553.000000      0.000000    0.000000    0.000000    0.000000  \n",
       "25%    274810.000000      0.000000    0.000000    2.000000    0.000000  \n",
       "50%    340783.500000      1.000000    1.000000    5.000000    0.000000  \n",
       "75%    444482.000000      2.000000    2.000000    7.000000    1.000000  \n",
       "max    669540.000000      2.000000    4.000000    8.000000    1.000000  "
      ]
     },
     "execution_count": 14,
     "metadata": {},
     "output_type": "execute_result"
    }
   ],
   "source": [
    "df.describe()"
   ]
  },
  {
   "cell_type": "code",
   "execution_count": null,
   "metadata": {},
   "outputs": [],
   "source": []
  },
  {
   "attachments": {},
   "cell_type": "markdown",
   "metadata": {},
   "source": [
    "## Estandariza los datos\n",
    "Como el objetivo de estos primeros apartados no es encontrar el mejor modelo con el mejor accuracy, por sencillez, no es necesario dividir en train y test."
   ]
  },
  {
   "cell_type": "code",
   "execution_count": 15,
   "metadata": {},
   "outputs": [
    {
     "name": "stdout",
     "output_type": "stream",
     "text": [
      "     ingresos  gastos_comunes  pago_coche  gastos_otros   ahorros  vivienda  \\\n",
      "0    0.620129        0.104689   -1.698954      0.504359  0.649475  0.195910   \n",
      "1    1.063927       -0.101625   -0.712042     -0.515401  0.259224  1.937370   \n",
      "2    0.891173        0.226266   -0.912634      1.667244  1.080309 -0.379102   \n",
      "3    1.274209        1.128886   -1.578599     -1.559015  0.909604  2.114062   \n",
      "4    0.719611       -0.400042    0.090326      0.027279  0.159468 -0.179497   \n",
      "..        ...             ...         ...           ...       ...       ...   \n",
      "197 -0.671949       -1.037402    1.125381     -0.163554 -1.617963 -0.075199   \n",
      "198 -0.594508        0.215214    0.467439     -0.241079 -0.973876 -0.683130   \n",
      "199 -1.057368       -0.061099    0.515581      1.005294 -0.183849  0.107880   \n",
      "200 -0.968013       -0.385305    1.261783      0.814462 -1.083273  0.026040   \n",
      "201 -0.578424        0.683102   -0.856468     -0.795686 -1.545397 -0.851037   \n",
      "\n",
      "     estado_civil     hijos   trabajo   comprar  \n",
      "0       -1.227088  0.562374 -0.984420  1.419481  \n",
      "1       -0.029640  1.295273  0.596915 -0.704483  \n",
      "2        1.167809 -0.170526  1.387582  1.419481  \n",
      "3       -1.227088 -0.903426 -0.589086 -0.704483  \n",
      "4       -1.227088 -0.903426 -0.589086  1.419481  \n",
      "..            ...       ...       ...       ...  \n",
      "197     -1.227088 -0.903426 -0.984420 -0.704483  \n",
      "198      1.167809  1.295273  1.387582 -0.704483  \n",
      "199     -0.029640  1.295273  1.387582 -0.704483  \n",
      "200     -0.029640  0.562374  0.201581 -0.704483  \n",
      "201     -1.227088 -0.903426 -0.193753 -0.704483  \n",
      "\n",
      "[202 rows x 10 columns]\n"
     ]
    }
   ],
   "source": [
    "import pandas as pd\n",
    "from sklearn.preprocessing import StandardScaler\n",
    "\n",
    "\n",
    "# Crear una instancia del StandardScaler\n",
    "scaler = StandardScaler()\n",
    "\n",
    "# Estandarizar los datos\n",
    "df_estandarizado = scaler.fit_transform(df)\n",
    "\n",
    "# Convertir el resultado en un nuevo DataFrame\n",
    "df_estandarizado = pd.DataFrame(df_estandarizado, columns=df.columns)\n",
    "\n",
    "# Mostrar el DataFrame estandarizado\n",
    "print(df_estandarizado)\n"
   ]
  },
  {
   "attachments": {},
   "cell_type": "markdown",
   "metadata": {},
   "source": [
    "## Aplicamos PCA\n",
    "Aplica el algoritmo de PCA para 9 components, es decir, para todas las features"
   ]
  },
  {
   "cell_type": "code",
   "execution_count": 16,
   "metadata": {},
   "outputs": [],
   "source": [
    "# Crea una instancia de PCA con el número deseado de componentes\n",
    "n_components = 9  # Número de componentes principales\n",
    "pca = PCA(n_components=n_components)\n",
    "\n",
    "# Ajusta el modelo PCA a los datos estandarizados\n",
    "pca.fit(df_estandarizado)\n",
    "\n",
    "# Transforma los datos en las nuevas coordenadas PCA\n",
    "pca_features = pca.transform(df_estandarizado)\n"
   ]
  },
  {
   "attachments": {},
   "cell_type": "markdown",
   "metadata": {},
   "source": [
    "### Veamos cómo de buenos predictores son las nuevas dimensiones\n",
    "Responde a las siguientes preguntas:\n",
    "1. ¿Cuánta varianza explica cada Principal Component?\n",
    "2. ¿Y de manera acumulada empezando por el PC1?\n",
    "3. ¿Cuánta varianza explicarían sólo 5 componentes?"
   ]
  },
  {
   "cell_type": "code",
   "execution_count": 17,
   "metadata": {},
   "outputs": [
    {
     "name": "stdout",
     "output_type": "stream",
     "text": [
      "Varianza explicada por PC1: 0.2737\n",
      "Varianza explicada por PC2: 0.2396\n",
      "Varianza explicada por PC3: 0.1099\n",
      "Varianza explicada por PC4: 0.1041\n",
      "Varianza explicada por PC5: 0.0911\n",
      "Varianza explicada por PC6: 0.0735\n",
      "Varianza explicada por PC7: 0.0458\n",
      "Varianza explicada por PC8: 0.0275\n",
      "Varianza explicada por PC9: 0.0247\n"
     ]
    }
   ],
   "source": [
    "# Obtener la varianza explicada por cada componente principal\n",
    "explained_variance = pca.explained_variance_ratio_\n",
    "\n",
    "# Imprimir la varianza explicada por cada componente principal\n",
    "for i, var in enumerate(explained_variance):\n",
    "    print(f\"Varianza explicada por PC{i+1}: {var:.4f}\")\n"
   ]
  },
  {
   "cell_type": "code",
   "execution_count": 18,
   "metadata": {},
   "outputs": [
    {
     "name": "stdout",
     "output_type": "stream",
     "text": [
      "Varianza acumulada hasta PC1: 0.2737\n",
      "Varianza acumulada hasta PC2: 0.5133\n",
      "Varianza acumulada hasta PC3: 0.6232\n",
      "Varianza acumulada hasta PC4: 0.7273\n",
      "Varianza acumulada hasta PC5: 0.8183\n",
      "Varianza acumulada hasta PC6: 0.8919\n",
      "Varianza acumulada hasta PC7: 0.9377\n",
      "Varianza acumulada hasta PC8: 0.9651\n",
      "Varianza acumulada hasta PC9: 0.9898\n"
     ]
    }
   ],
   "source": [
    "# Obtener la varianza acumulada a partir del primer componente principal\n",
    "cumulative_variance = np.cumsum(explained_variance)\n",
    "\n",
    "# Imprimir la varianza acumulada\n",
    "for i, var in enumerate(cumulative_variance):\n",
    "    print(f\"Varianza acumulada hasta PC{i+1}: {var:.4f}\")\n"
   ]
  },
  {
   "cell_type": "code",
   "execution_count": 23,
   "metadata": {},
   "outputs": [
    {
     "name": "stdout",
     "output_type": "stream",
     "text": [
      "Varianza explicada por los primeros 5 componentes: 0.8183\n"
     ]
    }
   ],
   "source": [
    "# Obtener la varianza explicada por los primeros 5 componentes principales\n",
    "variance_5_components = np.sum(explained_variance[:5])\n",
    "\n",
    "# Imprimir la varianza explicada por los primeros 5 componentes principales\n",
    "print(f\"Varianza explicada por los primeros 5 componentes: {variance_5_components:.4f}\")\n"
   ]
  },
  {
   "attachments": {},
   "cell_type": "markdown",
   "metadata": {},
   "source": [
    "### Graficamos la variacion explicada acumulada\n",
    "Representa en un diagrama de lineas la evolución de la varianza acumulada en función de los PC"
   ]
  },
  {
   "cell_type": "code",
   "execution_count": 24,
   "metadata": {},
   "outputs": [
    {
     "data": {
      "image/png": "[encoded data removed]",
      "text/plain": [
       "<Figure size 640x480 with 1 Axes>"
      ]
     },
     "metadata": {},
     "output_type": "display_data"
    }
   ],
   "source": [
    "import matplotlib.pyplot as plt\n",
    "import numpy as np\n",
    "\n",
    "# Obtener la varianza acumulada a partir del primer componente principal\n",
    "cumulative_variance = np.cumsum(explained_variance)\n",
    "\n",
    "# Crear el diagrama de líneas\n",
    "plt.plot(range(1, len(cumulative_variance)+1), cumulative_variance, marker='o')\n",
    "\n",
    "# Establecer etiquetas y título del gráfico\n",
    "plt.xlabel('Componentes Principales')\n",
    "plt.ylabel('Varianza Acumulada')\n",
    "plt.title('Varianza Acumulada por Componente Principal')\n",
    "\n",
    "# Mostrar el gráfico\n",
    "plt.show()\n"
   ]
  },
  {
   "attachments": {},
   "cell_type": "markdown",
   "metadata": {},
   "source": [
    "### Veamos la correlación entre las nuevas componentes y las dimensiones originales\n",
    "Representa en un mapa de calor los PCA vs las variables originales. Esta información la puedes obtener del atributo de PCA *components_*."
   ]
  },
  {
   "cell_type": "code",
   "execution_count": 30,
   "metadata": {},
   "outputs": [
    {
     "data": {
      "image/png": "[encoded data removed]",
      "text/plain": [
       "<Figure size 1000x600 with 2 Axes>"
      ]
     },
     "metadata": {},
     "output_type": "display_data"
    }
   ],
   "source": [
    "import seaborn as sns\n",
    "import matplotlib.pyplot as plt\n",
    "\n",
    "# Obtener los componentes principales del PCA\n",
    "pca_components = pca.components_\n",
    "\n",
    "# Crear un DataFrame para visualizar los resultados\n",
    "df_components = pd.DataFrame(pca_components)\n",
    "\n",
    "# Crear el mapa de calor\n",
    "plt.figure(figsize=(10, 6))\n",
    "sns.heatmap(df_components, cmap='coolwarm', annot=True, fmt=\".2f\")\n",
    "\n",
    "# Establecer etiquetas y título del gráfico\n",
    "plt.xlabel('Variables Originales')\n",
    "plt.ylabel('Componentes Principales')\n",
    "plt.title('Relación entre Componentes Principales y Variables Originales')\n",
    "\n",
    "# Mostrar el mapa de calor\n",
    "plt.show()\n"
   ]
  },
  {
   "attachments": {},
   "cell_type": "markdown",
   "metadata": {},
   "source": [
    "## Predicciones\n",
    "1. Divide en train y test\n",
    "2. Prepara un pipeline compuesto por:\n",
    "    - StandardScaler,\n",
    "    - PCA de 5 componentes\n",
    "    - KNN con 3 vecinos\n",
    "3. Entrena\n",
    "4. Predice en test\n",
    "5. Calcula el accuracy score en train y test\n",
    "6. Representa la matriz de confusión\n",
    "7. ¿Qué combinación de vecinos y componentes mejoraría el accuracy en test?\n",
    "8. Guarda tu modelo"
   ]
  },
  {
   "cell_type": "code",
   "execution_count": 35,
   "metadata": {},
   "outputs": [],
   "source": [
    "from sklearn.neighbors import KNeighborsClassifier"
   ]
  },
  {
   "cell_type": "code",
   "execution_count": 36,
   "metadata": {},
   "outputs": [],
   "source": [
    "from sklearn.pipeline import make_pipeline"
   ]
  },
  {
   "cell_type": "code",
   "execution_count": 37,
   "metadata": {},
   "outputs": [
    {
     "name": "stderr",
     "output_type": "stream",
     "text": [
      "c:\\Users\\Abraham\\AppData\\Local\\Programs\\Python\\Python37\\lib\\site-packages\\ipykernel_launcher.py:1: FutureWarning: In a future version of pandas all arguments of DataFrame.drop except for the argument 'labels' will be keyword-only\n",
      "  \"\"\"Entry point for launching an IPython kernel.\n"
     ]
    }
   ],
   "source": [
    "X = df.drop('comprar',1)\n",
    "y = df['comprar']\n",
    "\n",
    "X_train, X_test, y_train, y_test = train_test_split(X,y,test_size=0.2,random_state=42)"
   ]
  },
  {
   "cell_type": "code",
   "execution_count": 38,
   "metadata": {},
   "outputs": [
    {
     "name": "stdout",
     "output_type": "stream",
     "text": [
      "Accuracy en el conjunto de entrenamiento: 0.9130434782608695\n",
      "Accuracy en el conjunto de prueba: 0.7560975609756098\n",
      "Matriz de confusión:\n",
      "[[21  3]\n",
      " [ 7 10]]\n",
      "La combinación que mejora el accuracy en test es:\n",
      "Vecinos: 1\n",
      "Componentes: 3\n"
     ]
    },
    {
     "data": {
      "text/plain": [
       "['modelo.pkl']"
      ]
     },
     "execution_count": 38,
     "metadata": {},
     "output_type": "execute_result"
    }
   ],
   "source": [
    "import pandas as pd\n",
    "from sklearn.pipeline import Pipeline\n",
    "from sklearn.preprocessing import StandardScaler\n",
    "from sklearn.decomposition import PCA\n",
    "from sklearn.neighbors import KNeighborsClassifier\n",
    "from sklearn.metrics import accuracy_score, confusion_matrix\n",
    "from sklearn.model_selection import train_test_split\n",
    "import joblib\n",
    "\n",
    "# Paso 2: Preparar el pipeline\n",
    "pipeline = Pipeline([\n",
    "    ('scaler', StandardScaler()),\n",
    "    ('pca', PCA(n_components=5)),\n",
    "    ('knn', KNeighborsClassifier(n_neighbors=3))\n",
    "])\n",
    "\n",
    "# Paso 3: Entrenar el modelo\n",
    "X = df.drop('comprar', axis=1)  # Features\n",
    "y = df['comprar']  # Variable objetivo\n",
    "X_train, X_test, y_train, y_test = train_test_split(X, y, test_size=0.2, random_state=42)  # Dividir en conjunto de entrenamiento y prueba\n",
    "\n",
    "pipeline.fit(X_train, y_train)\n",
    "\n",
    "# Paso 4: Realizar predicciones en el conjunto de prueba\n",
    "y_train_pred = pipeline.predict(X_train)\n",
    "y_test_pred = pipeline.predict(X_test)\n",
    "\n",
    "# Paso 5: Calcular el accuracy score en train y test\n",
    "train_accuracy = accuracy_score(y_train, y_train_pred)\n",
    "test_accuracy = accuracy_score(y_test, y_test_pred)\n",
    "print(\"Accuracy en el conjunto de entrenamiento:\", train_accuracy)\n",
    "print(\"Accuracy en el conjunto de prueba:\", test_accuracy)\n",
    "\n",
    "# Paso 6: Representar la matriz de confusión\n",
    "confusion_mat = confusion_matrix(y_test, y_test_pred)\n",
    "print(\"Matriz de confusión:\")\n",
    "print(confusion_mat)\n",
    "\n",
    "# Paso 7: Encontrar la combinación que mejora el accuracy en test\n",
    "best_accuracy = 0\n",
    "best_neighbors = 0\n",
    "best_components = 0\n",
    "\n",
    "for n_neighbors in range(1, 10):\n",
    "    for n_components in range(1, 6):\n",
    "        pipeline = Pipeline([\n",
    "            ('scaler', StandardScaler()),\n",
    "            ('pca', PCA(n_components=n_components)),\n",
    "            ('knn', KNeighborsClassifier(n_neighbors=n_neighbors))\n",
    "        ])\n",
    "        pipeline.fit(X_train, y_train)\n",
    "        y_test_pred = pipeline.predict(X_test)\n",
    "        accuracy = accuracy_score(y_test, y_test_pred)\n",
    "        if accuracy > best_accuracy:\n",
    "            best_accuracy = accuracy\n",
    "            best_neighbors = n_neighbors\n",
    "            best_components = n_components\n",
    "\n",
    "print(\"La combinación que mejora el accuracy en test es:\")\n",
    "print(\"Vecinos:\", best_neighbors)\n",
    "print(\"Componentes:\", best_components)\n",
    "\n",
    "# Paso 8: Guardar el modelo\n",
    "joblib.dump(pipeline, 'modelo.pkl')\n"
   ]
  },
  {
   "attachments": {},
   "cell_type": "markdown",
   "metadata": {},
   "source": [
    "Guarda el modelo"
   ]
  },
  {
   "cell_type": "code",
   "execution_count": 40,
   "metadata": {},
   "outputs": [],
   "source": [
    "import pickle\n",
    "\n",
    "\n",
    "# Guardar el modelo utilizando pickle\n",
    "with open('modelo.pkl', 'wb') as f:\n",
    "    pickle.dump(pipeline, f)\n",
    "\n"
   ]
  }
 ],
 "metadata": {
  "kernelspec": {
   "display_name": "Python 3",
   "language": "python",
   "name": "python3"
  },
  "language_info": {
   "codemirror_mode": {
    "name": "ipython",
    "version": 3
   },
   "file_extension": ".py",
   "mimetype": "text/x-python",
   "name": "python",
   "nbconvert_exporter": "python",
   "pygments_lexer": "ipython3",
   "version": "3.7.4"
  }
 },
 "nbformat": 4,
 "nbformat_minor": 4
}
